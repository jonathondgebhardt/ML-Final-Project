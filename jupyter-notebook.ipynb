{
 "cells": [
  {
   "cell_type": "markdown",
   "metadata": {
    "collapsed": true
   },
   "source": [
    "# Comparing Public School Funding and Mortality Rates Due to Drug Abuse and Self-Harm In Ohio"
   ]
  },
  {
   "cell_type": "markdown",
   "metadata": {},
   "source": [
    "### csvconvert.py\n",
    "**To begin, we created a script csvconvert.py which converts our input xlsx files into csv files.**\n",
    "It can be run from the command line, taking the file name of the xlsx file, the name of the desired sheet, followed by the output filename of the csv. In this python-friendly form, we can interpret and manipulate them inside of Sci-kit and Jupyter."
   ]
  },
  {
   "cell_type": "markdown",
   "metadata": {},
   "source": [
    "### preprocess.py\n",
    "\n",
    "**Preprocess.py creates a dictionary and checks all of the district schools.**\n",
    "In this way we know that we found matches for all of the school's identifying IRNs\n",
    "So we can cross reference multiple data sets"
   ]
  },
  {
   "cell_type": "code",
   "execution_count": null,
   "metadata": {},
   "outputs": [],
   "source": [
    "# %load preprocess.py\n",
    "#!/usr/bin/env python3\n",
    "\n",
    "import csv\n",
    "\n",
    "\n",
    "def checkIntersection():\n",
    "    matched = []\n",
    "    count = 0\n",
    "    for row in districtInfo:\n",
    "        for irns in irnLookups.values():\n",
    "            if int(float(row[1])) in irns:\n",
    "                matched.append(int(float(row[1])))\n",
    "                break\n",
    "\n",
    "\n",
    "    for row in districtInfo:\n",
    "        if int(float(row[1])) not in matched:\n",
    "            print('Did not match', row[1], 'to irnLookups dictionary')\n",
    "\n",
    "\n",
    "    print('Matched', len(matched), 'out of', len(districtInfo), 'schools from districtInfo to irnLookups')\n",
    "\n",
    "\n",
    "# Print list of matching IRNs\n",
    "def printLookups(irn_list):\n",
    "    for i in irnLookups:\n",
    "        print (i, irnLookups.get(i))\n",
    "\n",
    "\n",
    "# grad.csv is what helps us map IRN's to County names\n",
    "# Build IRN dictionary: (String)county name: (List)IRN\n",
    "irnLookups = {}\n",
    "with open('grad.csv', newline='') as csvfile:\n",
    "    reader = csv.reader(csvfile, delimiter=',', quotechar='\"')\n",
    "    for row in reader:\n",
    "        # Row 2 is district name\n",
    "        # Row 0 is IRN\n",
    "        if row[2] not in irnLookups:\n",
    "            if row[2] != 'County':\n",
    "                irnLookups[row[2]] = [int(row[0])]\n",
    "        else:\n",
    "            temp = irnLookups.get(row[2])\n",
    "            temp.append(int(row[0]))\n",
    "            irnLookups[row[2]] = temp\n",
    "\n",
    "\n",
    "# mort.csv is all of the mortality data and is categorized by \n",
    "# county name, which is why we had to relate IRN's to county\n",
    "# names.\n",
    "# Build mortality\n",
    "mortality = []\n",
    "line = 0\n",
    "with open('mort.csv', newline='') as csvfile:\n",
    "    reader = csv.reader(csvfile, delimiter=',', quotechar='\"')\n",
    "    for row in reader:\n",
    "        # Ohio lines are between 2081 and 2170\n",
    "        if line > 2081 and line < 2170:\n",
    "            temp = row[0].split(\",\")\n",
    "            mortality.append(row)\n",
    "\n",
    "        # If we get to line 2170, we're done\n",
    "        if line >= 2170:\n",
    "            break\n",
    "\n",
    "        line += 1\n",
    "\n",
    "\n",
    "# Begin parsing district.csv, which contains various information\n",
    "# on schools by district\n",
    "districtInfo = []\n",
    "with open('district.csv', newline='') as csvfile:\n",
    "    reader = csv.reader(csvfile, delimiter=',', quotechar='\"')\n",
    "    for row in reader:\n",
    "        districtInfo.append(row)\n",
    "\n",
    "\n",
    "# Trim off first two rows which are column names and empty space\n",
    "districtInfo = districtInfo[2:]\n",
    "\n",
    "\n",
    "# Validate intersection between two data sets\n",
    "# checkIntersection()\n",
    "\n",
    "# Print list of matching IRNs\n",
    "# printLookups(irnLookups)    "
   ]
  },
  {
   "cell_type": "code",
   "execution_count": 14,
   "metadata": {},
   "outputs": [],
   "source": [
    "from preprocess import checkIntersection\n",
    "from preprocess import printLookups"
   ]
  },
  {
   "cell_type": "code",
   "execution_count": 10,
   "metadata": {},
   "outputs": [
    {
     "name": "stdout",
     "output_type": "stream",
     "text": [
      "Matched 607 out of 607 schools from districtInfo to irnLookups\n"
     ]
    }
   ],
   "source": [
    "checkIntersection()"
   ]
  },
  {
   "cell_type": "code",
   "execution_count": 17,
   "metadata": {},
   "outputs": [
    {
     "ename": "NameError",
     "evalue": "name 'csv' is not defined",
     "output_type": "error",
     "traceback": [
      "\u001b[0;31m---------------------------------------------------------------------------\u001b[0m",
      "\u001b[0;31mNameError\u001b[0m                                 Traceback (most recent call last)",
      "\u001b[0;32m<ipython-input-17-36786495cdd1>\u001b[0m in \u001b[0;36m<module>\u001b[0;34m()\u001b[0m\n\u001b[1;32m      2\u001b[0m \u001b[0mirnLookups\u001b[0m \u001b[0;34m=\u001b[0m \u001b[0;34m{\u001b[0m\u001b[0;34m}\u001b[0m\u001b[0;34m\u001b[0m\u001b[0m\n\u001b[1;32m      3\u001b[0m \u001b[0;32mwith\u001b[0m \u001b[0mopen\u001b[0m\u001b[0;34m(\u001b[0m\u001b[0;34m'grad.csv'\u001b[0m\u001b[0;34m,\u001b[0m \u001b[0mnewline\u001b[0m\u001b[0;34m=\u001b[0m\u001b[0;34m''\u001b[0m\u001b[0;34m)\u001b[0m \u001b[0;32mas\u001b[0m \u001b[0mcsvfile\u001b[0m\u001b[0;34m:\u001b[0m\u001b[0;34m\u001b[0m\u001b[0m\n\u001b[0;32m----> 4\u001b[0;31m     \u001b[0mreader\u001b[0m \u001b[0;34m=\u001b[0m \u001b[0mcsv\u001b[0m\u001b[0;34m.\u001b[0m\u001b[0mreader\u001b[0m\u001b[0;34m(\u001b[0m\u001b[0mcsvfile\u001b[0m\u001b[0;34m,\u001b[0m \u001b[0mdelimiter\u001b[0m\u001b[0;34m=\u001b[0m\u001b[0;34m','\u001b[0m\u001b[0;34m,\u001b[0m \u001b[0mquotechar\u001b[0m\u001b[0;34m=\u001b[0m\u001b[0;34m'\"'\u001b[0m\u001b[0;34m)\u001b[0m\u001b[0;34m\u001b[0m\u001b[0m\n\u001b[0m\u001b[1;32m      5\u001b[0m     \u001b[0;32mfor\u001b[0m \u001b[0mrow\u001b[0m \u001b[0;32min\u001b[0m \u001b[0mreader\u001b[0m\u001b[0;34m:\u001b[0m\u001b[0;34m\u001b[0m\u001b[0m\n\u001b[1;32m      6\u001b[0m         \u001b[0;31m# Row 2 is district name\u001b[0m\u001b[0;34m\u001b[0m\u001b[0;34m\u001b[0m\u001b[0m\n",
      "\u001b[0;31mNameError\u001b[0m: name 'csv' is not defined"
     ]
    }
   ],
   "source": [
    "# Build IRN dictionary: (String)county name: (List)IRN\n",
    "irnLookups = {}\n",
    "with open('grad.csv', newline='') as csvfile:\n",
    "    reader = csv.reader(csvfile, delimiter=',', quotechar='\"')\n",
    "    for row in reader:\n",
    "        # Row 2 is district name\n",
    "        # Row 0 is IRN\n",
    "        if row[2] not in irnLookups:\n",
    "            if row[2] != 'County':\n",
    "                irnLookups[row[2]] = [int(row[0])]\n",
    "        else:\n",
    "            temp = irnLookups.get(row[2])\n",
    "            temp.append(int(row[0]))\n",
    "            irnLookups[row[2]] = temp\n",
    "\n",
    "printLookups(irnLookups)"
   ]
  },
  {
   "cell_type": "code",
   "execution_count": null,
   "metadata": {
    "collapsed": true
   },
   "outputs": [],
   "source": []
  }
 ],
 "metadata": {
  "kernelspec": {
   "display_name": "Python 3",
   "language": "python",
   "name": "python3"
  },
  "language_info": {
   "codemirror_mode": {
    "name": "ipython",
    "version": 3
   },
   "file_extension": ".py",
   "mimetype": "text/x-python",
   "name": "python",
   "nbconvert_exporter": "python",
   "pygments_lexer": "ipython3",
   "version": "3.6.3"
  }
 },
 "nbformat": 4,
 "nbformat_minor": 2
}
