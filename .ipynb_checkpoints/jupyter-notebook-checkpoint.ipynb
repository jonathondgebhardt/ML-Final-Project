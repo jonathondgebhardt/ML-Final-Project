{
 "cells": [
  {
   "cell_type": "markdown",
   "metadata": {
    "collapsed": true
   },
   "source": [
    "# Comparing Public School Funding and Mortality Rates Due to Drug Abuse and Self-Harm In Ohio"
   ]
  },
  {
   "cell_type": "markdown",
   "metadata": {},
   "source": [
    "### csvconvert.py\n",
    "**To begin, we created a script csvconvert.py which converts our input xlsx files into csv files.**\n",
    "It can be run from the command line, taking the file name of the xlsx file, the name of the desired sheet, followed by the output filename of the csv. In this python-friendly form, we can interpret and manipulate them inside of Sci-kit and Jupyter."
   ]
  },
  {
   "cell_type": "markdown",
   "metadata": {},
   "source": [
    "### preprocess.py\n",
    "\n",
    "**Preprocess.py creates a dictionary and checks all of the district schools.**\n",
    "In this way we know that we found matches for all of the school's identifying IRNs\n",
    "So we can cross reference multiple data sets"
   ]
  },
  {
   "cell_type": "code",
   "execution_count": null,
   "metadata": {
    "collapsed": true
   },
   "outputs": [],
   "source": [
    "# %load preprocess.py\n",
    "#!/usr/bin/env python3\n",
    "\n",
    "import csv\n",
    "\n",
    "\n",
    "def checkIntersection():\n",
    "    matched = []\n",
    "    count = 0\n",
    "    for row in districtInfo:\n",
    "        for irns in irnLookups.values():\n",
    "            if int(float(row[1])) in irns:\n",
    "                matched.append(int(float(row[1])))\n",
    "                break\n",
    "\n",
    "\n",
    "    for row in districtInfo:\n",
    "        if int(float(row[1])) not in matched:\n",
    "            print('Did not match', row[1], 'to irnLookups dictionary')\n",
    "\n",
    "\n",
    "    print('Matched', len(matched), 'out of', len(districtInfo), 'schools from districtInfo to irnLookups')\n",
    "\n",
    "\n",
    "# Print list of matching IRNs\n",
    "def printLookups(irn_list):\n",
    "    for i in irnLookups:\n",
    "        print (i, irnLookups.get(i))\n",
    "\n",
    "\n",
    "# grad.csv is what helps us map IRN's to County names\n",
    "# Build IRN dictionary: (String)county name: (List)IRN\n",
    "irnLookups = {}\n",
    "with open('grad.csv', newline='') as csvfile:\n",
    "    reader = csv.reader(csvfile, delimiter=',', quotechar='\"')\n",
    "    for row in reader:\n",
    "        # Row 2 is district name\n",
    "        # Row 0 is IRN\n",
    "        if row[2] not in irnLookups:\n",
    "            if row[2] != 'County':\n",
    "                irnLookups[row[2]] = [int(row[0])]\n",
    "        else:\n",
    "            temp = irnLookups.get(row[2])\n",
    "            temp.append(int(row[0]))\n",
    "            irnLookups[row[2]] = temp\n",
    "\n",
    "\n",
    "# mort.csv is all of the mortality data and is categorized by \n",
    "# county name, which is why we had to relate IRN's to county\n",
    "# names.\n",
    "# Build mortality\n",
    "mortality = []\n",
    "line = 0\n",
    "with open('mort.csv', newline='') as csvfile:\n",
    "    reader = csv.reader(csvfile, delimiter=',', quotechar='\"')\n",
    "    for row in reader:\n",
    "        # Ohio lines are between 2081 and 2170\n",
    "        if line > 2081 and line < 2170:\n",
    "            temp = row[0].split(\",\")\n",
    "            mortality.append(row)\n",
    "\n",
    "        # If we get to line 2170, we're done\n",
    "        if line >= 2170:\n",
    "            break\n",
    "\n",
    "        line += 1\n",
    "\n",
    "\n",
    "# Begin parsing district.csv, which contains various information\n",
    "# on schools by district\n",
    "districtInfo = []\n",
    "with open('district.csv', newline='') as csvfile:\n",
    "    reader = csv.reader(csvfile, delimiter=',', quotechar='\"')\n",
    "    for row in reader:\n",
    "        districtInfo.append(row)\n",
    "\n",
    "\n",
    "# Trim off first two rows which are column names and empty space\n",
    "districtInfo = districtInfo[2:]\n",
    "\n",
    "\n",
    "# Validate intersection between two data sets\n",
    "# checkIntersection()\n",
    "\n",
    "# Print list of matching IRNs\n",
    "# printLookups(irnLookups)    "
   ]
  },
  {
   "cell_type": "code",
   "execution_count": 16,
   "metadata": {},
   "outputs": [
    {
     "name": "stdout",
     "output_type": "stream",
     "text": [
      "Matched 607 out of 607 schools from districtInfo to irnLookups\n"
     ]
    }
   ],
   "source": [
    "from preprocess import checkIntersection\n",
    "checkIntersection()"
   ]
  },
  {
   "cell_type": "code",
   "execution_count": 19,
   "metadata": {},
   "outputs": [
    {
     "data": {
      "text/plain": [
       "True"
      ]
     },
     "execution_count": 19,
     "metadata": {},
     "output_type": "execute_result"
    }
   ],
   "source": [
    "import os\n",
    "import csv\n",
    "from preprocess import printLookups\n",
    "os.path.isfile('/home/alex/Documents/Classes/MachineLearning/Final_Project/ML-Final-Project/grad.csv')"
   ]
  },
  {
   "cell_type": "code",
   "execution_count": 20,
   "metadata": {},
   "outputs": [
    {
     "name": "stdout",
     "output_type": "stream",
     "text": [
      "Adams [442, 61903]\n",
      "Summit [43489, 43539, 43836, 44552, 44834, 44883, 49973, 49981, 49999, 50005, 50013, 50021, 50039, 50047, 50054, 50062, 50070]\n",
      "Stark [43497, 43711, 44354, 44503, 49833, 49841, 49858, 49866, 49874, 49882, 49890, 49908, 49916, 49924, 49932, 49940, 49957]\n",
      "Ashland [43505, 45468, 45823, 45831]\n",
      "Ashtabula [43513, 43810, 44057, 45856, 45864, 45872, 45880]\n",
      "Athens [43521, 44446, 45906, 45914, 45922]\n",
      "Cuyahoga [43547, 43554, 43562, 43612, 43646, 43653, 43786, 43794, 43901, 43950, 43976, 44040, 44198, 44305, 44370, 44529, 44545, 44636, 44701, 44750, 44792, 44842, 45005, 45062, 45286, 46557, 46565, 46573, 46581, 46599, 46607]\n",
      "Belmont [43570, 44347, 45203, 45237, 45997, 46003, 46011]\n",
      "Logan [43588, 48074, 48082, 48090]\n",
      "Huron [43596, 44560, 45096, 47712, 47720, 47738, 47746]\n",
      "Washington [43604, 44321, 50484, 50492, 50500, 50518]\n",
      "Franklin [43620, 43802, 44073, 44800, 44933, 45047, 45070, 45138, 46946, 46953, 46961, 46979, 46995, 47001, 47019, 47027]\n",
      "Wood [43638, 45583, 45609, 50674, 50682, 50690, 50708, 50716, 50724]\n",
      "Medina [43661, 44388, 44974, 48462, 48470, 48488, 48496]\n",
      "Williams [43679, 45526, 50617, 50625, 50633, 50641, 50658]\n",
      "Crawford [43687, 44024, 45344, 46508, 46516, 46524]\n",
      "Guernsey [43695, 47308, 69682]\n",
      "Mahoning [43703, 44859, 45161, 48298, 48306, 48314, 48322, 48330, 48348, 48355, 48363, 48371, 48389, 48397]\n",
      "Mercer [43729, 45310, 48553, 48579, 48587, 48595]\n",
      "Montgomery [43737, 43844, 44180, 44396, 44586, 44958, 45054, 48678, 48686, 48694, 48702, 48710, 48728, 48736, 48744, 48751]\n",
      "Ross [43745, 49494, 49502, 49510, 49528, 49536, 49544]\n",
      "Hamilton [43752, 43851, 44081, 44230, 44271, 44289, 44313, 44412, 44511, 44578, 44677, 44693, 44719, 44867, 45146, 45435, 47332, 47340, 47365, 47373, 47381, 47399]\n",
      "Pickaway [43760, 49080, 49098, 49106]\n",
      "Tuscarawas [43778, 43893, 44487, 45542, 50278, 50286, 50294, 50302]\n",
      "Coshocton [43828, 46474, 46482]\n",
      "Defiance [43869, 45419, 46706, 46714, 46722]\n",
      "Delaware [43877, 46748, 46755, 46763]\n",
      "Allen [43885, 44222, 45211, 45757, 45765, 45773, 45781, 45799, 45807]\n",
      "Columbiana [43919, 43927, 44735, 45039, 45328, 45443, 45450, 46425, 46433, 46441, 46458]\n",
      "Preble [43935, 49270, 49288, 49296, 91397]\n",
      "Lorain [43943, 44263, 44537, 44594, 44768, 45195, 45658, 48116, 48124, 48132, 48140, 48157, 48165, 48173]\n",
      "Greene [43968, 45153, 45674, 47241, 47258, 47266, 47274]\n",
      "Hancock [43984, 47415, 47423, 47431, 47449, 47456, 47464, 47472, 47514]\n",
      "Seneca [43992, 44891, 49684, 49700, 49718, 49726]\n",
      "Warren [44008, 44214, 50419, 50427, 50435, 50443, 50450, 50468]\n",
      "Sandusky [44016, 45302, 45385, 49569, 49577]\n",
      "Gallia [44032, 65680]\n",
      "Trumbull [44065, 44495, 44990, 45427, 45567, 50096, 50112, 50120, 50138, 50153, 50161, 50179, 50187, 50195, 50203, 50211, 50229, 50237, 50245, 50252]\n",
      "Darke [44099, 45633, 46623, 46631, 46649, 46672, 46680]\n",
      "Butler [44107, 44404, 46094, 46102, 46110, 46128, 46136, 46144, 46151, 139303]\n",
      "Licking [44115, 44453, 45393, 47985, 47993, 48009, 48017, 48025, 48033, 48041]\n",
      "Highland [44123, 45401, 47613, 47621, 47639]\n",
      "Erie [44131, 44743, 46789, 46805, 46813, 46821]\n",
      "Lawrence [44149, 45294, 47928, 47936, 47944, 47951, 47969]\n",
      "Jackson [44156, 45021, 47761]\n",
      "Portage [44164, 44685, 45666, 49171, 49189, 49197, 49205, 49213, 49221, 49239, 49247]\n",
      "Hardin [44172, 45187, 47498, 47506, 47522]\n",
      "Fairfield [44206, 46847, 46854, 46862, 46870, 46888, 46896, 46904]\n",
      "Hocking [44248]\n",
      "Madison [44255, 48256, 48264, 48272]\n",
      "Richland [44297, 44776, 49411, 49429, 49437, 49445, 49452, 49460, 49478]\n",
      "Marion [44339, 48413, 48421, 48439, 48447]\n",
      "Lucas [44362, 44602, 44875, 44909, 48207, 48215, 48223, 48231]\n",
      "Knox [44420, 47829, 47837, 47845, 47852]\n",
      "Henry [44438, 47571, 47589, 47597]\n",
      "Scioto [44461, 44669, 49593, 49601, 49619, 49627, 49635, 49643, 49650, 49668]\n",
      "Perry [44479, 45351, 49056, 49064]\n",
      "Wayne [44610, 45120, 45591, 50534, 50542, 50559, 50567, 50575, 50583, 50591]\n",
      "Lake [44628, 45088, 45104, 45369, 45492, 47878, 47886, 47894, 47902]\n",
      "Miami [44644, 44925, 45229, 45336, 45518, 45617, 48611, 48629, 48637]\n",
      "Ottawa [44651, 48926, 48934, 48942, 48975]\n",
      "Auglaize [44727, 44982, 45948, 45955, 45963, 45971]\n",
      "Shelby [44784, 49759, 49767, 49775, 49783, 49791, 49809, 49817]\n",
      "Clark [44818, 46235, 46243, 46250, 46268, 46276, 46284]\n",
      "Jefferson [44826, 44917, 47787, 47795, 47803]\n",
      "Champaign [44941, 45484, 46193, 46201, 46219]\n",
      "Van Wert [44966, 50351, 50369]\n",
      "Fayette [45013, 46920]\n",
      "Clinton [45112, 46383, 46391, 46409]\n",
      "Muskingum [45179, 48835, 48843, 48850, 48876, 48884]\n",
      "Harrison [45245, 47548]\n",
      "Noble [45252, 48900]\n",
      "Wyandot [45260, 45625, 50740]\n",
      "Carroll [45278, 46177]\n",
      "Brown [45377, 46037, 46045, 46060, 46078]\n",
      "Union [45476, 50328, 50336]\n",
      "Clermont [45500, 45559, 46300, 46318, 46326, 46334, 46342, 46359, 46367]\n",
      "Morrow [45534, 48793, 48801, 48819]\n",
      "Paulding [45575, 48991, 49031]\n",
      "Fulton [45641, 47043, 47050, 47068, 47076, 47084, 47092]\n",
      "Geauga [47167, 47175, 47183, 47191, 47217, 47225]\n",
      "Holmes [47688, 47696]\n",
      "Meigs [48512, 48520, 48538]\n",
      "Monroe [48652]\n",
      "Morgan [48777]\n",
      "Pike [49122, 49130, 49148, 49155]\n",
      "Putnam [49312, 49320, 49338, 49346, 49353, 49361, 49379, 49387, 49395]\n",
      "Vinton [50393]\n"
     ]
    }
   ],
   "source": [
    "# Build IRN dictionary: (String)county name: (List)IRN\n",
    "irnLookups = {}\n",
    "with open('grad.csv', newline='') as csvfile:\n",
    "    reader = csv.reader(csvfile, delimiter=',', quotechar='\"')\n",
    "    for row in reader:\n",
    "        # Row 2 is district name\n",
    "        # Row 0 is IRN\n",
    "        if row[2] not in irnLookups:\n",
    "            if row[2] != 'County':\n",
    "                irnLookups[row[2]] = [int(row[0])]\n",
    "        else:\n",
    "            temp = irnLookups.get(row[2])\n",
    "            temp.append(int(row[0]))\n",
    "            irnLookups[row[2]] = temp\n",
    "\n",
    "printLookups(irnLookups)"
   ]
  },
  {
   "cell_type": "code",
   "execution_count": null,
   "metadata": {
    "collapsed": true
   },
   "outputs": [],
   "source": []
  }
 ],
 "metadata": {
  "kernelspec": {
   "display_name": "Python 3",
   "language": "python",
   "name": "python3"
  },
  "language_info": {
   "codemirror_mode": {
    "name": "ipython",
    "version": 3
   },
   "file_extension": ".py",
   "mimetype": "text/x-python",
   "name": "python",
   "nbconvert_exporter": "python",
   "pygments_lexer": "ipython3",
   "version": "3.6.3"
  }
 },
 "nbformat": 4,
 "nbformat_minor": 2
}
